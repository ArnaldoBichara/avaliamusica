{
 "cells": [
  {
   "cell_type": "code",
   "execution_count": null,
   "id": "62df8a8e-632b-444b-80bd-3f189bba13a2",
   "metadata": {},
   "outputs": [],
   "source": [
    "#%% Importando packages\n",
    "import pandas as pd\n",
    "import numpy as np\n",
    "from scipy.sparse import csr_matrix"
   ]
  },
  {
   "cell_type": "code",
   "execution_count": null,
   "id": "93a8c060-8842-419d-ba39-1d393eed0d7c",
   "metadata": {},
   "outputs": [],
   "source": [
    "dfUsers = pd.read_table('./datasets/lastfm-1K-users-tracks.tsv',\n",
    "                          header = None, nrows = 2e7,\n",
    "                          names = ['userid', 'timestamp', 'musicbrainz-artist-id', 'artista', 'musicbrainz-track-id', 'faixa'],\n",
    "                          usecols = ['userid', 'artista', 'faixa'])"
   ]
  },
  {
   "cell_type": "code",
   "execution_count": null,
   "id": "5d297be8-2ebf-408e-b755-c54e1688a942",
   "metadata": {},
   "outputs": [],
   "source": [
    "#%% agregando, por user, artista/faixa e número de vezes tocada\n",
    "dfUsers['nPlays']=1\n",
    "dfPlaysPorFaixaPorUser = (dfUsers.groupby (['userid','artista','faixa']).agg({'nPlays':sum})[['nPlays']])\n",
    "#dfPlaysPorFaixaPorUser = (dfUsers.groupby (['userid','artista','faixa']).count())"
   ]
  },
  {
   "cell_type": "code",
   "execution_count": null,
   "id": "678eae55-834e-43bf-8997-444ad1d3d328",
   "metadata": {},
   "outputs": [],
   "source": [
    "dfPlaysPorFaixaPorUser.head()"
   ]
  },
  {
   "cell_type": "code",
   "execution_count": null,
   "id": "c4d3044e-eaee-4083-bc97-ed61d0ffedfa",
   "metadata": {},
   "outputs": [],
   "source": [
    "usersList = (dfUsers.groupby(['userid'])[['nPlays']])\n",
    "usersList.head()\n",
    "usersList.count()"
   ]
  },
  {
   "cell_type": "code",
   "execution_count": null,
   "id": "315464bd-dd09-4a6e-b38d-a09b214c7a93",
   "metadata": {},
   "outputs": [],
   "source": [
    "usersList.description()"
   ]
  },
  {
   "cell_type": "code",
   "execution_count": null,
   "id": "fb1521ca-d73b-4a16-8941-e8860d8e0af9",
   "metadata": {},
   "outputs": [],
   "source": [
    "#%% consigo estatísticas por user ou [user,artista] ou [user,música] neste ponto\n",
    "dfPlaysPorFaixaPorUser.groupby(['userid','artista']).mean()"
   ]
  },
  {
   "cell_type": "code",
   "execution_count": null,
   "id": "d41c72ed-5d12-4315-9fb7-d9a11ef2ddfb",
   "metadata": {},
   "outputs": [],
   "source": []
  },
  {
   "cell_type": "code",
   "execution_count": null,
   "id": "b323e250-50c7-499e-8114-dd22b1f7ec13",
   "metadata": {},
   "outputs": [],
   "source": [
    "dfPlaysPorFaixaPorUser.groupby(['userid']).max()"
   ]
  },
  {
   "cell_type": "code",
   "execution_count": null,
   "id": "8ae72414-c0b5-4a1c-96e3-4413104c09d5",
   "metadata": {},
   "outputs": [],
   "source": [
    "dfMusPerUser=dfMusPerUser.sort_values(['userid','nPlays'],ascending=False)"
   ]
  },
  {
   "cell_type": "code",
   "execution_count": null,
   "id": "cee741fb-c5fc-4748-a900-cc3b5e5b7c9d",
   "metadata": {},
   "outputs": [],
   "source": [
    "dfMusPerUser.columns"
   ]
  },
  {
   "cell_type": "code",
   "execution_count": null,
   "id": "c3b5e519-c221-41ff-9c8f-feae1c24f11c",
   "metadata": {},
   "outputs": [],
   "source": []
  },
  {
   "cell_type": "code",
   "execution_count": null,
   "id": "948d1392-32db-48aa-97f2-e8613cd80631",
   "metadata": {},
   "outputs": [],
   "source": []
  },
  {
   "cell_type": "code",
   "execution_count": null,
   "id": "3e05d41a-4b41-4cd7-8147-835c1ce8a876",
   "metadata": {},
   "outputs": [],
   "source": []
  },
  {
   "cell_type": "code",
   "execution_count": null,
   "id": "4728254a-95c6-48c7-b528-847387299cfc",
   "metadata": {},
   "outputs": [],
   "source": []
  }
 ],
 "metadata": {
  "kernelspec": {
   "display_name": "Python 3",
   "language": "python",
   "name": "python3"
  },
  "language_info": {
   "codemirror_mode": {
    "name": "ipython",
    "version": 3
   },
   "file_extension": ".py",
   "mimetype": "text/x-python",
   "name": "python",
   "nbconvert_exporter": "python",
   "pygments_lexer": "ipython3",
   "version": "3.8.8"
  }
 },
 "nbformat": 4,
 "nbformat_minor": 5
}
